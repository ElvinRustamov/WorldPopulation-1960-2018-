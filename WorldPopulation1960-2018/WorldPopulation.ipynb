{
 "cells": [
  {
   "cell_type": "code",
   "execution_count": 71,
   "outputs": [],
   "source": [
    "import pandas as pd\n",
    "import numpy as np\n",
    "\n",
    "#For visualize\n",
    "import matplotlib.pyplot as plt\n",
    "import seaborn as sns"
   ],
   "metadata": {
    "collapsed": false,
    "pycharm": {
     "name": "#%%\n"
    }
   }
  },
  {
   "cell_type": "code",
   "execution_count": 6,
   "outputs": [
    {
     "data": {
      "text/plain": "  Country (or dependency)  Population (2020)  Yearly Change %  Net Change  \\\n0                   China         1439323776             0.39     5540090   \n1                   India         1380004385             0.99    13586631   \n2           United States          331002651             0.59     1937734   \n3               Indonesia          273523615             1.07     2898047   \n4                Pakistan          220892340             2.00     4327022   \n\n   Density (P/Km²)  Land Area (Km²)  Migrants (net)  Fert. Rate  Med. Age  \\\n0            153.0        9388211.0       -348399.0         1.7      38.0   \n1            464.0        2973190.0       -532687.0         2.2      28.0   \n2             36.0        9147420.0        954806.0         1.8      38.0   \n3            151.0        1811570.0        -98955.0         2.3      30.0   \n4            287.0         770880.0       -233379.0         3.6      23.0   \n\n   Urban Pop %  World Share %  \n0         61.0          18.47  \n1         35.0          17.70  \n2         83.0           4.25  \n3         56.0           3.51  \n4         35.0           2.83  ",
      "text/html": "<div>\n<style scoped>\n    .dataframe tbody tr th:only-of-type {\n        vertical-align: middle;\n    }\n\n    .dataframe tbody tr th {\n        vertical-align: top;\n    }\n\n    .dataframe thead th {\n        text-align: right;\n    }\n</style>\n<table border=\"1\" class=\"dataframe\">\n  <thead>\n    <tr style=\"text-align: right;\">\n      <th></th>\n      <th>Country (or dependency)</th>\n      <th>Population (2020)</th>\n      <th>Yearly Change %</th>\n      <th>Net Change</th>\n      <th>Density (P/Km²)</th>\n      <th>Land Area (Km²)</th>\n      <th>Migrants (net)</th>\n      <th>Fert. Rate</th>\n      <th>Med. Age</th>\n      <th>Urban Pop %</th>\n      <th>World Share %</th>\n    </tr>\n  </thead>\n  <tbody>\n    <tr>\n      <th>0</th>\n      <td>China</td>\n      <td>1439323776</td>\n      <td>0.39</td>\n      <td>5540090</td>\n      <td>153.0</td>\n      <td>9388211.0</td>\n      <td>-348399.0</td>\n      <td>1.7</td>\n      <td>38.0</td>\n      <td>61.0</td>\n      <td>18.47</td>\n    </tr>\n    <tr>\n      <th>1</th>\n      <td>India</td>\n      <td>1380004385</td>\n      <td>0.99</td>\n      <td>13586631</td>\n      <td>464.0</td>\n      <td>2973190.0</td>\n      <td>-532687.0</td>\n      <td>2.2</td>\n      <td>28.0</td>\n      <td>35.0</td>\n      <td>17.70</td>\n    </tr>\n    <tr>\n      <th>2</th>\n      <td>United States</td>\n      <td>331002651</td>\n      <td>0.59</td>\n      <td>1937734</td>\n      <td>36.0</td>\n      <td>9147420.0</td>\n      <td>954806.0</td>\n      <td>1.8</td>\n      <td>38.0</td>\n      <td>83.0</td>\n      <td>4.25</td>\n    </tr>\n    <tr>\n      <th>3</th>\n      <td>Indonesia</td>\n      <td>273523615</td>\n      <td>1.07</td>\n      <td>2898047</td>\n      <td>151.0</td>\n      <td>1811570.0</td>\n      <td>-98955.0</td>\n      <td>2.3</td>\n      <td>30.0</td>\n      <td>56.0</td>\n      <td>3.51</td>\n    </tr>\n    <tr>\n      <th>4</th>\n      <td>Pakistan</td>\n      <td>220892340</td>\n      <td>2.00</td>\n      <td>4327022</td>\n      <td>287.0</td>\n      <td>770880.0</td>\n      <td>-233379.0</td>\n      <td>3.6</td>\n      <td>23.0</td>\n      <td>35.0</td>\n      <td>2.83</td>\n    </tr>\n  </tbody>\n</table>\n</div>"
     },
     "execution_count": 6,
     "metadata": {},
     "output_type": "execute_result"
    }
   ],
   "source": [
    "# Read the data and look first five row\n",
    "world_population = pd.read_csv('World Population/pop_worldometer_data.csv')\n",
    "world_population.head()"
   ],
   "metadata": {
    "collapsed": false,
    "pycharm": {
     "name": "#%%\n"
    }
   }
  },
  {
   "cell_type": "code",
   "execution_count": 8,
   "outputs": [
    {
     "data": {
      "text/plain": "Country (or dependency)     0\nPopulation (2020)           0\nYearly Change %            29\nNet Change                  0\nDensity (P/Km²)             0\nLand Area (Km²)             0\nMigrants (net)             34\nFert. Rate                 34\nMed. Age                   34\nUrban Pop %                13\nWorld Share %               0\ndtype: int64"
     },
     "execution_count": 8,
     "metadata": {},
     "output_type": "execute_result"
    }
   ],
   "source": [
    "#Check the null values\n",
    "world_population.isna().sum()"
   ],
   "metadata": {
    "collapsed": false,
    "pycharm": {
     "name": "#%%\n"
    }
   }
  },
  {
   "cell_type": "code",
   "execution_count": 10,
   "outputs": [
    {
     "name": "stdout",
     "output_type": "stream",
     "text": [
      "<class 'pandas.core.frame.DataFrame'>\n",
      "RangeIndex: 235 entries, 0 to 234\n",
      "Data columns (total 11 columns):\n",
      " #   Column                   Non-Null Count  Dtype  \n",
      "---  ------                   --------------  -----  \n",
      " 0   Country (or dependency)  235 non-null    object \n",
      " 1   Population (2020)        235 non-null    int64  \n",
      " 2   Yearly Change %          206 non-null    float64\n",
      " 3   Net Change               235 non-null    int64  \n",
      " 4   Density (P/Km²)          235 non-null    float64\n",
      " 5   Land Area (Km²)          235 non-null    float64\n",
      " 6   Migrants (net)           201 non-null    float64\n",
      " 7   Fert. Rate               201 non-null    float64\n",
      " 8   Med. Age                 201 non-null    float64\n",
      " 9   Urban Pop %              222 non-null    float64\n",
      " 10  World Share %            235 non-null    float64\n",
      "dtypes: float64(8), int64(2), object(1)\n",
      "memory usage: 20.3+ KB\n"
     ]
    }
   ],
   "source": [
    "#Information about dataset\n",
    "world_population.info()"
   ],
   "metadata": {
    "collapsed": false,
    "pycharm": {
     "name": "#%%\n"
    }
   }
  },
  {
   "cell_type": "code",
   "execution_count": 22,
   "outputs": [],
   "source": [
    "#Set the Country (or dependency) column as an index\n",
    "world_population.set_index('Country (or dependency)', inplace=True)"
   ],
   "metadata": {
    "collapsed": false,
    "pycharm": {
     "name": "#%%\n"
    }
   }
  },
  {
   "cell_type": "code",
   "execution_count": 115,
   "outputs": [
    {
     "data": {
      "application/javascript": "if (window.IpyVizzu) { window.IpyVizzu.clearInhibitScroll(element); }"
     },
     "metadata": {},
     "output_type": "display_data"
    },
    {
     "data": {
      "application/javascript": "if (window.IpyVizzu) { window.IpyVizzu.clearInhibitScroll(element); }"
     },
     "metadata": {},
     "output_type": "display_data"
    },
    {
     "data": {
      "application/javascript": "if (window.IpyVizzu) { window.IpyVizzu.clearInhibitScroll(element); }"
     },
     "metadata": {},
     "output_type": "display_data"
    },
    {
     "data": {
      "application/javascript": "if (window.IpyVizzu) { window.IpyVizzu.clearInhibitScroll(element); }"
     },
     "metadata": {},
     "output_type": "display_data"
    },
    {
     "data": {
      "application/javascript": "if (window.IpyVizzu) { window.IpyVizzu.clearInhibitScroll(element); }"
     },
     "metadata": {},
     "output_type": "display_data"
    },
    {
     "data": {
      "application/javascript": "if (window.IpyVizzu) { window.IpyVizzu.clearInhibitScroll(element); }"
     },
     "metadata": {},
     "output_type": "display_data"
    },
    {
     "data": {
      "application/javascript": "if (window.IpyVizzu) { window.IpyVizzu.clearInhibitScroll(element); }"
     },
     "metadata": {},
     "output_type": "display_data"
    },
    {
     "data": {
      "application/javascript": "if (window.IpyVizzu) { window.IpyVizzu.clearInhibitScroll(element); }"
     },
     "metadata": {},
     "output_type": "display_data"
    },
    {
     "data": {
      "application/javascript": "if (window.IpyVizzu) { window.IpyVizzu.clearInhibitScroll(element); }"
     },
     "metadata": {},
     "output_type": "display_data"
    },
    {
     "data": {
      "application/javascript": "if (window.IpyVizzu) { window.IpyVizzu.clearInhibitScroll(element); }"
     },
     "metadata": {},
     "output_type": "display_data"
    },
    {
     "data": {
      "application/javascript": "if (window.IpyVizzu) { window.IpyVizzu.clearInhibitScroll(element); }"
     },
     "metadata": {},
     "output_type": "display_data"
    },
    {
     "data": {
      "application/javascript": "if (window.IpyVizzu) { window.IpyVizzu.clearInhibitScroll(element); }"
     },
     "metadata": {},
     "output_type": "display_data"
    },
    {
     "data": {
      "application/javascript": "if (window.IpyVizzu) { window.IpyVizzu.clearInhibitScroll(element); }"
     },
     "metadata": {},
     "output_type": "display_data"
    },
    {
     "data": {
      "application/javascript": "if (window.IpyVizzu) { window.IpyVizzu.clearInhibitScroll(element); }"
     },
     "metadata": {},
     "output_type": "display_data"
    },
    {
     "data": {
      "application/javascript": "if (window.IpyVizzu) { window.IpyVizzu.clearInhibitScroll(element); }"
     },
     "metadata": {},
     "output_type": "display_data"
    },
    {
     "data": {
      "application/javascript": "if (window.IpyVizzu) { window.IpyVizzu.clearInhibitScroll(element); }"
     },
     "metadata": {},
     "output_type": "display_data"
    },
    {
     "data": {
      "text/plain": "<Figure size 720x648 with 1 Axes>",
      "image/png": "[encoded data removed]"
     },
     "metadata": {},
     "output_type": "display_data"
    }
   ],
   "source": [
    "#Visualize Top 5 countries with the highest population, MM means = one million\n",
    "world_five_largest_population = world_population['Population (2020)'].nlargest(5)\n",
    "plt.figure(figsize=(10, 9))\n",
    "plt.pie(world_five_largest_population,\n",
    "        autopct='%1.1f%%',\n",
    "        labels=(world_five_largest_population / 1000000).round(2),\n",
    "        #pctdistance=1.1,\n",
    "        wedgeprops = {'linewidth': 1},\n",
    "        textprops  = {'color' : 'black', 'fontsize':15}\n",
    "        );\n",
    "plt.title('Top Five Countries With The Highest Population (2020, MM)', fontsize=20, fontfamily='Times New Roman')\n",
    "plt.legend(world_five_largest_population.index, title='Countries', loc='lower right');"
   ],
   "metadata": {
    "collapsed": false,
    "pycharm": {
     "name": "#%%\n"
    }
   }
  },
  {
   "cell_type": "code",
   "execution_count": 116,
   "outputs": [
    {
     "data": {
      "application/javascript": "if (window.IpyVizzu) { window.IpyVizzu.clearInhibitScroll(element); }"
     },
     "metadata": {},
     "output_type": "display_data"
    },
    {
     "data": {
      "application/javascript": "if (window.IpyVizzu) { window.IpyVizzu.clearInhibitScroll(element); }"
     },
     "metadata": {},
     "output_type": "display_data"
    },
    {
     "data": {
      "application/javascript": "if (window.IpyVizzu) { window.IpyVizzu.clearInhibitScroll(element); }"
     },
     "metadata": {},
     "output_type": "display_data"
    },
    {
     "data": {
      "application/javascript": "if (window.IpyVizzu) { window.IpyVizzu.clearInhibitScroll(element); }"
     },
     "metadata": {},
     "output_type": "display_data"
    },
    {
     "data": {
      "application/javascript": "if (window.IpyVizzu) { window.IpyVizzu.clearInhibitScroll(element); }"
     },
     "metadata": {},
     "output_type": "display_data"
    },
    {
     "data": {
      "application/javascript": "if (window.IpyVizzu) { window.IpyVizzu.clearInhibitScroll(element); }"
     },
     "metadata": {},
     "output_type": "display_data"
    },
    {
     "data": {
      "application/javascript": "if (window.IpyVizzu) { window.IpyVizzu.clearInhibitScroll(element); }"
     },
     "metadata": {},
     "output_type": "display_data"
    },
    {
     "data": {
      "application/javascript": "if (window.IpyVizzu) { window.IpyVizzu.clearInhibitScroll(element); }"
     },
     "metadata": {},
     "output_type": "display_data"
    },
    {
     "data": {
      "application/javascript": "if (window.IpyVizzu) { window.IpyVizzu.clearInhibitScroll(element); }"
     },
     "metadata": {},
     "output_type": "display_data"
    },
    {
     "data": {
      "application/javascript": "if (window.IpyVizzu) { window.IpyVizzu.clearInhibitScroll(element); }"
     },
     "metadata": {},
     "output_type": "display_data"
    },
    {
     "data": {
      "application/javascript": "if (window.IpyVizzu) { window.IpyVizzu.clearInhibitScroll(element); }"
     },
     "metadata": {},
     "output_type": "display_data"
    },
    {
     "data": {
      "application/javascript": "if (window.IpyVizzu) { window.IpyVizzu.clearInhibitScroll(element); }"
     },
     "metadata": {},
     "output_type": "display_data"
    },
    {
     "data": {
      "application/javascript": "if (window.IpyVizzu) { window.IpyVizzu.clearInhibitScroll(element); }"
     },
     "metadata": {},
     "output_type": "display_data"
    },
    {
     "data": {
      "application/javascript": "if (window.IpyVizzu) { window.IpyVizzu.clearInhibitScroll(element); }"
     },
     "metadata": {},
     "output_type": "display_data"
    },
    {
     "data": {
      "application/javascript": "if (window.IpyVizzu) { window.IpyVizzu.clearInhibitScroll(element); }"
     },
     "metadata": {},
     "output_type": "display_data"
    },
    {
     "data": {
      "application/javascript": "if (window.IpyVizzu) { window.IpyVizzu.clearInhibitScroll(element); }"
     },
     "metadata": {},
     "output_type": "display_data"
    },
    {
     "data": {
      "text/plain": "  Country Name  Year    Count\n0        Aruba  1960    54211\n1  Afghanistan  1960  8996973\n2       Angola  1960  5454933\n3      Albania  1960  1608800\n4      Andorra  1960    13411",
      "text/html": "<div>\n<style scoped>\n    .dataframe tbody tr th:only-of-type {\n        vertical-align: middle;\n    }\n\n    .dataframe tbody tr th {\n        vertical-align: top;\n    }\n\n    .dataframe thead th {\n        text-align: right;\n    }\n</style>\n<table border=\"1\" class=\"dataframe\">\n  <thead>\n    <tr style=\"text-align: right;\">\n      <th></th>\n      <th>Country Name</th>\n      <th>Year</th>\n      <th>Count</th>\n    </tr>\n  </thead>\n  <tbody>\n    <tr>\n      <th>0</th>\n      <td>Aruba</td>\n      <td>1960</td>\n      <td>54211</td>\n    </tr>\n    <tr>\n      <th>1</th>\n      <td>Afghanistan</td>\n      <td>1960</td>\n      <td>8996973</td>\n    </tr>\n    <tr>\n      <th>2</th>\n      <td>Angola</td>\n      <td>1960</td>\n      <td>5454933</td>\n    </tr>\n    <tr>\n      <th>3</th>\n      <td>Albania</td>\n      <td>1960</td>\n      <td>1608800</td>\n    </tr>\n    <tr>\n      <th>4</th>\n      <td>Andorra</td>\n      <td>1960</td>\n      <td>13411</td>\n    </tr>\n  </tbody>\n</table>\n</div>"
     },
     "execution_count": 116,
     "metadata": {},
     "output_type": "execute_result"
    }
   ],
   "source": [
    "# New dataset\n",
    "total_long = pd.read_csv('World Population/population_total_long.csv')\n",
    "total_long.head()"
   ],
   "metadata": {
    "collapsed": false,
    "pycharm": {
     "name": "#%%\n"
    }
   }
  },
  {
   "cell_type": "code",
   "execution_count": 131,
   "outputs": [
    {
     "data": {
      "application/javascript": "if (window.IpyVizzu) { window.IpyVizzu.clearInhibitScroll(element); }"
     },
     "metadata": {},
     "output_type": "display_data"
    },
    {
     "data": {
      "application/javascript": "if (window.IpyVizzu) { window.IpyVizzu.clearInhibitScroll(element); }"
     },
     "metadata": {},
     "output_type": "display_data"
    },
    {
     "data": {
      "application/javascript": "if (window.IpyVizzu) { window.IpyVizzu.clearInhibitScroll(element); }"
     },
     "metadata": {},
     "output_type": "display_data"
    },
    {
     "data": {
      "application/javascript": "if (window.IpyVizzu) { window.IpyVizzu.clearInhibitScroll(element); }"
     },
     "metadata": {},
     "output_type": "display_data"
    },
    {
     "data": {
      "application/javascript": "if (window.IpyVizzu) { window.IpyVizzu.clearInhibitScroll(element); }"
     },
     "metadata": {},
     "output_type": "display_data"
    },
    {
     "data": {
      "application/javascript": "if (window.IpyVizzu) { window.IpyVizzu.clearInhibitScroll(element); }"
     },
     "metadata": {},
     "output_type": "display_data"
    },
    {
     "data": {
      "application/javascript": "if (window.IpyVizzu) { window.IpyVizzu.clearInhibitScroll(element); }"
     },
     "metadata": {},
     "output_type": "display_data"
    },
    {
     "data": {
      "application/javascript": "if (window.IpyVizzu) { window.IpyVizzu.clearInhibitScroll(element); }"
     },
     "metadata": {},
     "output_type": "display_data"
    },
    {
     "data": {
      "application/javascript": "if (window.IpyVizzu) { window.IpyVizzu.clearInhibitScroll(element); }"
     },
     "metadata": {},
     "output_type": "display_data"
    },
    {
     "data": {
      "application/javascript": "if (window.IpyVizzu) { window.IpyVizzu.clearInhibitScroll(element); }"
     },
     "metadata": {},
     "output_type": "display_data"
    },
    {
     "data": {
      "application/javascript": "if (window.IpyVizzu) { window.IpyVizzu.clearInhibitScroll(element); }"
     },
     "metadata": {},
     "output_type": "display_data"
    },
    {
     "data": {
      "application/javascript": "if (window.IpyVizzu) { window.IpyVizzu.clearInhibitScroll(element); }"
     },
     "metadata": {},
     "output_type": "display_data"
    },
    {
     "data": {
      "application/javascript": "if (window.IpyVizzu) { window.IpyVizzu.clearInhibitScroll(element); }"
     },
     "metadata": {},
     "output_type": "display_data"
    },
    {
     "data": {
      "application/javascript": "if (window.IpyVizzu) { window.IpyVizzu.clearInhibitScroll(element); }"
     },
     "metadata": {},
     "output_type": "display_data"
    },
    {
     "data": {
      "application/javascript": "if (window.IpyVizzu) { window.IpyVizzu.clearInhibitScroll(element); }"
     },
     "metadata": {},
     "output_type": "display_data"
    },
    {
     "data": {
      "application/javascript": "if (window.IpyVizzu) { window.IpyVizzu.clearInhibitScroll(element); }"
     },
     "metadata": {},
     "output_type": "display_data"
    },
    {
     "data": {
      "text/plain": "        min         max          mean\nYear                                 \n1960   3893   667070000  1.398042e+07\n1961   3989   660330000  1.416906e+07\n1962   4076   665770000  1.441294e+07\n1963   4183   682335000  1.471295e+07\n1964   4308   698355000  1.501475e+07\n1965   4468   715185000  1.532303e+07\n1966   4685   735400000  1.564575e+07\n1967   4920   754550000  1.596686e+07\n1968   5193   774510000  1.629142e+07\n1969   5459   796025000  1.663516e+07\n1970   5712   818315000  1.698231e+07\n1971   5766   841105000  1.734033e+07\n1972   5790   862030000  1.769291e+07\n1973   5822   881940000  1.804131e+07\n1974   5905   900350000  1.839286e+07\n1975   6060   916395000  1.873629e+07\n1976   6323   930685000  1.907098e+07\n1977   6650   943455000  1.940472e+07\n1978   7014   956165000  1.974409e+07\n1979   7358   969005000  2.009213e+07\n1980   7637   981235000  2.044379e+07\n1981   7827   993885000  2.080480e+07\n1982   7956  1008630000  2.117947e+07\n1983   8041  1023310000  2.155767e+07\n1984   8115  1036825000  2.193466e+07\n1985   8219  1051040000  2.231876e+07\n1986   8336  1066790000  2.271444e+07\n1987   8485  1084035000  2.312003e+07\n1988   8637  1101630000  2.352992e+07\n1989   8779  1118650000  2.393966e+07\n1990   8913  1135185000  2.416865e+07\n1991   9026  1150780000  2.457104e+07\n1992   9112  1164970000  2.507176e+07\n1993   9194  1178440000  2.546326e+07\n1994   9252  1191835000  2.585041e+07\n1995   9298  1204855000  2.612109e+07\n1996   9323  1217550000  2.650105e+07\n1997   9323  1230075000  2.687956e+07\n1998   9332  1241935000  2.712930e+07\n1999   9346  1252735000  2.749628e+07\n2000   9394  1262645000  2.786033e+07\n2001   9484  1271850000  2.822221e+07\n2002   9596  1280400000  2.858301e+07\n2003   9726  1288400000  2.894430e+07\n2004   9869  1296075000  2.930814e+07\n2005   9849  1303720000  2.967442e+07\n2006   9828  1311020000  3.004428e+07\n2007   9842  1317885000  3.041640e+07\n2008   9891  1324655000  3.079420e+07\n2009   9939  1331260000  3.117184e+07\n2010  10005  1337705000  3.154793e+07\n2011  10057  1344130000  3.191824e+07\n2012  10279  1350695000  3.243038e+07\n2013  10821  1357380000  3.281539e+07\n2014  10972  1364270000  3.320389e+07\n2015  11099  1371220000  3.359322e+07\n2016  11225  1378665000  3.398567e+07\n2017  11370  1386395000  3.437506e+07",
      "text/html": "<div>\n<style scoped>\n    .dataframe tbody tr th:only-of-type {\n        vertical-align: middle;\n    }\n\n    .dataframe tbody tr th {\n        vertical-align: top;\n    }\n\n    .dataframe thead th {\n        text-align: right;\n    }\n</style>\n<table border=\"1\" class=\"dataframe\">\n  <thead>\n    <tr style=\"text-align: right;\">\n      <th></th>\n      <th>min</th>\n      <th>max</th>\n      <th>mean</th>\n    </tr>\n    <tr>\n      <th>Year</th>\n      <th></th>\n      <th></th>\n      <th></th>\n    </tr>\n  </thead>\n  <tbody>\n    <tr>\n      <th>1960</th>\n      <td>3893</td>\n      <td>667070000</td>\n      <td>1.398042e+07</td>\n    </tr>\n    <tr>\n      <th>1961</th>\n      <td>3989</td>\n      <td>660330000</td>\n      <td>1.416906e+07</td>\n    </tr>\n    <tr>\n      <th>1962</th>\n      <td>4076</td>\n      <td>665770000</td>\n      <td>1.441294e+07</td>\n    </tr>\n    <tr>\n      <th>1963</th>\n      <td>4183</td>\n      <td>682335000</td>\n      <td>1.471295e+07</td>\n    </tr>\n    <tr>\n      <th>1964</th>\n      <td>4308</td>\n      <td>698355000</td>\n      <td>1.501475e+07</td>\n    </tr>\n    <tr>\n      <th>1965</th>\n      <td>4468</td>\n      <td>715185000</td>\n      <td>1.532303e+07</td>\n    </tr>\n    <tr>\n      <th>1966</th>\n      <td>4685</td>\n      <td>735400000</td>\n      <td>1.564575e+07</td>\n    </tr>\n    <tr>\n      <th>1967</th>\n      <td>4920</td>\n      <td>754550000</td>\n      <td>1.596686e+07</td>\n    </tr>\n    <tr>\n      <th>1968</th>\n      <td>5193</td>\n      <td>774510000</td>\n      <td>1.629142e+07</td>\n    </tr>\n    <tr>\n      <th>1969</th>\n      <td>5459</td>\n      <td>796025000</td>\n      <td>1.663516e+07</td>\n    </tr>\n    <tr>\n      <th>1970</th>\n      <td>5712</td>\n      <td>818315000</td>\n      <td>1.698231e+07</td>\n    </tr>\n    <tr>\n      <th>1971</th>\n      <td>5766</td>\n      <td>841105000</td>\n      <td>1.734033e+07</td>\n    </tr>\n    <tr>\n      <th>1972</th>\n      <td>5790</td>\n      <td>862030000</td>\n      <td>1.769291e+07</td>\n    </tr>\n    <tr>\n      <th>1973</th>\n      <td>5822</td>\n      <td>881940000</td>\n      <td>1.804131e+07</td>\n    </tr>\n    <tr>\n      <th>1974</th>\n      <td>5905</td>\n      <td>900350000</td>\n      <td>1.839286e+07</td>\n    </tr>\n    <tr>\n      <th>1975</th>\n      <td>6060</td>\n      <td>916395000</td>\n      <td>1.873629e+07</td>\n    </tr>\n    <tr>\n      <th>1976</th>\n      <td>6323</td>\n      <td>930685000</td>\n      <td>1.907098e+07</td>\n    </tr>\n    <tr>\n      <th>1977</th>\n      <td>6650</td>\n      <td>943455000</td>\n      <td>1.940472e+07</td>\n    </tr>\n    <tr>\n      <th>1978</th>\n      <td>7014</td>\n      <td>956165000</td>\n      <td>1.974409e+07</td>\n    </tr>\n    <tr>\n      <th>1979</th>\n      <td>7358</td>\n      <td>969005000</td>\n      <td>2.009213e+07</td>\n    </tr>\n    <tr>\n      <th>1980</th>\n      <td>7637</td>\n      <td>981235000</td>\n      <td>2.044379e+07</td>\n    </tr>\n    <tr>\n      <th>1981</th>\n      <td>7827</td>\n      <td>993885000</td>\n      <td>2.080480e+07</td>\n    </tr>\n    <tr>\n      <th>1982</th>\n      <td>7956</td>\n      <td>1008630000</td>\n      <td>2.117947e+07</td>\n    </tr>\n    <tr>\n      <th>1983</th>\n      <td>8041</td>\n      <td>1023310000</td>\n      <td>2.155767e+07</td>\n    </tr>\n    <tr>\n      <th>1984</th>\n      <td>8115</td>\n      <td>1036825000</td>\n      <td>2.193466e+07</td>\n    </tr>\n    <tr>\n      <th>1985</th>\n      <td>8219</td>\n      <td>1051040000</td>\n      <td>2.231876e+07</td>\n    </tr>\n    <tr>\n      <th>1986</th>\n      <td>8336</td>\n      <td>1066790000</td>\n      <td>2.271444e+07</td>\n    </tr>\n    <tr>\n      <th>1987</th>\n      <td>8485</td>\n      <td>1084035000</td>\n      <td>2.312003e+07</td>\n    </tr>\n    <tr>\n      <th>1988</th>\n      <td>8637</td>\n      <td>1101630000</td>\n      <td>2.352992e+07</td>\n    </tr>\n    <tr>\n      <th>1989</th>\n      <td>8779</td>\n      <td>1118650000</td>\n      <td>2.393966e+07</td>\n    </tr>\n    <tr>\n      <th>1990</th>\n      <td>8913</td>\n      <td>1135185000</td>\n      <td>2.416865e+07</td>\n    </tr>\n    <tr>\n      <th>1991</th>\n      <td>9026</td>\n      <td>1150780000</td>\n      <td>2.457104e+07</td>\n    </tr>\n    <tr>\n      <th>1992</th>\n      <td>9112</td>\n      <td>1164970000</td>\n      <td>2.507176e+07</td>\n    </tr>\n    <tr>\n      <th>1993</th>\n      <td>9194</td>\n      <td>1178440000</td>\n      <td>2.546326e+07</td>\n    </tr>\n    <tr>\n      <th>1994</th>\n      <td>9252</td>\n      <td>1191835000</td>\n      <td>2.585041e+07</td>\n    </tr>\n    <tr>\n      <th>1995</th>\n      <td>9298</td>\n      <td>1204855000</td>\n      <td>2.612109e+07</td>\n    </tr>\n    <tr>\n      <th>1996</th>\n      <td>9323</td>\n      <td>1217550000</td>\n      <td>2.650105e+07</td>\n    </tr>\n    <tr>\n      <th>1997</th>\n      <td>9323</td>\n      <td>1230075000</td>\n      <td>2.687956e+07</td>\n    </tr>\n    <tr>\n      <th>1998</th>\n      <td>9332</td>\n      <td>1241935000</td>\n      <td>2.712930e+07</td>\n    </tr>\n    <tr>\n      <th>1999</th>\n      <td>9346</td>\n      <td>1252735000</td>\n      <td>2.749628e+07</td>\n    </tr>\n    <tr>\n      <th>2000</th>\n      <td>9394</td>\n      <td>1262645000</td>\n      <td>2.786033e+07</td>\n    </tr>\n    <tr>\n      <th>2001</th>\n      <td>9484</td>\n      <td>1271850000</td>\n      <td>2.822221e+07</td>\n    </tr>\n    <tr>\n      <th>2002</th>\n      <td>9596</td>\n      <td>1280400000</td>\n      <td>2.858301e+07</td>\n    </tr>\n    <tr>\n      <th>2003</th>\n      <td>9726</td>\n      <td>1288400000</td>\n      <td>2.894430e+07</td>\n    </tr>\n    <tr>\n      <th>2004</th>\n      <td>9869</td>\n      <td>1296075000</td>\n      <td>2.930814e+07</td>\n    </tr>\n    <tr>\n      <th>2005</th>\n      <td>9849</td>\n      <td>1303720000</td>\n      <td>2.967442e+07</td>\n    </tr>\n    <tr>\n      <th>2006</th>\n      <td>9828</td>\n      <td>1311020000</td>\n      <td>3.004428e+07</td>\n    </tr>\n    <tr>\n      <th>2007</th>\n      <td>9842</td>\n      <td>1317885000</td>\n      <td>3.041640e+07</td>\n    </tr>\n    <tr>\n      <th>2008</th>\n      <td>9891</td>\n      <td>1324655000</td>\n      <td>3.079420e+07</td>\n    </tr>\n    <tr>\n      <th>2009</th>\n      <td>9939</td>\n      <td>1331260000</td>\n      <td>3.117184e+07</td>\n    </tr>\n    <tr>\n      <th>2010</th>\n      <td>10005</td>\n      <td>1337705000</td>\n      <td>3.154793e+07</td>\n    </tr>\n    <tr>\n      <th>2011</th>\n      <td>10057</td>\n      <td>1344130000</td>\n      <td>3.191824e+07</td>\n    </tr>\n    <tr>\n      <th>2012</th>\n      <td>10279</td>\n      <td>1350695000</td>\n      <td>3.243038e+07</td>\n    </tr>\n    <tr>\n      <th>2013</th>\n      <td>10821</td>\n      <td>1357380000</td>\n      <td>3.281539e+07</td>\n    </tr>\n    <tr>\n      <th>2014</th>\n      <td>10972</td>\n      <td>1364270000</td>\n      <td>3.320389e+07</td>\n    </tr>\n    <tr>\n      <th>2015</th>\n      <td>11099</td>\n      <td>1371220000</td>\n      <td>3.359322e+07</td>\n    </tr>\n    <tr>\n      <th>2016</th>\n      <td>11225</td>\n      <td>1378665000</td>\n      <td>3.398567e+07</td>\n    </tr>\n    <tr>\n      <th>2017</th>\n      <td>11370</td>\n      <td>1386395000</td>\n      <td>3.437506e+07</td>\n    </tr>\n  </tbody>\n</table>\n</div>"
     },
     "execution_count": 131,
     "metadata": {},
     "output_type": "execute_result"
    }
   ],
   "source": [
    "# Minumum, maxsimum and average population\n",
    "total_long.groupby('Year')['Count'].agg(['min', 'max', 'mean'])"
   ],
   "metadata": {
    "collapsed": false,
    "pycharm": {
     "name": "#%%\n"
    }
   }
  },
  {
   "cell_type": "code",
   "execution_count": 151,
   "outputs": [
    {
     "data": {
      "application/javascript": "if (window.IpyVizzu) { window.IpyVizzu.clearInhibitScroll(element); }"
     },
     "metadata": {},
     "output_type": "display_data"
    },
    {
     "data": {
      "application/javascript": "if (window.IpyVizzu) { window.IpyVizzu.clearInhibitScroll(element); }"
     },
     "metadata": {},
     "output_type": "display_data"
    },
    {
     "data": {
      "application/javascript": "if (window.IpyVizzu) { window.IpyVizzu.clearInhibitScroll(element); }"
     },
     "metadata": {},
     "output_type": "display_data"
    },
    {
     "data": {
      "application/javascript": "if (window.IpyVizzu) { window.IpyVizzu.clearInhibitScroll(element); }"
     },
     "metadata": {},
     "output_type": "display_data"
    },
    {
     "data": {
      "application/javascript": "if (window.IpyVizzu) { window.IpyVizzu.clearInhibitScroll(element); }"
     },
     "metadata": {},
     "output_type": "display_data"
    },
    {
     "data": {
      "application/javascript": "if (window.IpyVizzu) { window.IpyVizzu.clearInhibitScroll(element); }"
     },
     "metadata": {},
     "output_type": "display_data"
    },
    {
     "data": {
      "application/javascript": "if (window.IpyVizzu) { window.IpyVizzu.clearInhibitScroll(element); }"
     },
     "metadata": {},
     "output_type": "display_data"
    },
    {
     "data": {
      "application/javascript": "if (window.IpyVizzu) { window.IpyVizzu.clearInhibitScroll(element); }"
     },
     "metadata": {},
     "output_type": "display_data"
    },
    {
     "data": {
      "application/javascript": "if (window.IpyVizzu) { window.IpyVizzu.clearInhibitScroll(element); }"
     },
     "metadata": {},
     "output_type": "display_data"
    },
    {
     "data": {
      "application/javascript": "if (window.IpyVizzu) { window.IpyVizzu.clearInhibitScroll(element); }"
     },
     "metadata": {},
     "output_type": "display_data"
    },
    {
     "data": {
      "application/javascript": "if (window.IpyVizzu) { window.IpyVizzu.clearInhibitScroll(element); }"
     },
     "metadata": {},
     "output_type": "display_data"
    },
    {
     "data": {
      "application/javascript": "if (window.IpyVizzu) { window.IpyVizzu.clearInhibitScroll(element); }"
     },
     "metadata": {},
     "output_type": "display_data"
    },
    {
     "data": {
      "application/javascript": "if (window.IpyVizzu) { window.IpyVizzu.clearInhibitScroll(element); }"
     },
     "metadata": {},
     "output_type": "display_data"
    },
    {
     "data": {
      "application/javascript": "if (window.IpyVizzu) { window.IpyVizzu.clearInhibitScroll(element); }"
     },
     "metadata": {},
     "output_type": "display_data"
    },
    {
     "data": {
      "application/javascript": "if (window.IpyVizzu) { window.IpyVizzu.clearInhibitScroll(element); }"
     },
     "metadata": {},
     "output_type": "display_data"
    },
    {
     "data": {
      "application/javascript": "if (window.IpyVizzu) { window.IpyVizzu.clearInhibitScroll(element); }"
     },
     "metadata": {},
     "output_type": "display_data"
    },
    {
     "data": {
      "text/plain": "    Year       Count\n0   2000  6101411771\n1   2001  6180664500\n2   2002  6259679996\n3   2003  6338802263\n4   2004  6418482246\n5   2005  6498697803\n6   2006  6579697558\n7   2007  6661190578\n8   2008  6743929342\n9   2009  6826633998\n10  2010  6908996605\n11  2011  6990094970\n12  2012  7069823152\n13  2013  7153755444\n14  2014  7238448967\n15  2015  7323321696\n16  2016  7408875994\n17  2017  7493762171",
      "text/html": "<div>\n<style scoped>\n    .dataframe tbody tr th:only-of-type {\n        vertical-align: middle;\n    }\n\n    .dataframe tbody tr th {\n        vertical-align: top;\n    }\n\n    .dataframe thead th {\n        text-align: right;\n    }\n</style>\n<table border=\"1\" class=\"dataframe\">\n  <thead>\n    <tr style=\"text-align: right;\">\n      <th></th>\n      <th>Year</th>\n      <th>Count</th>\n    </tr>\n  </thead>\n  <tbody>\n    <tr>\n      <th>0</th>\n      <td>2000</td>\n      <td>6101411771</td>\n    </tr>\n    <tr>\n      <th>1</th>\n      <td>2001</td>\n      <td>6180664500</td>\n    </tr>\n    <tr>\n      <th>2</th>\n      <td>2002</td>\n      <td>6259679996</td>\n    </tr>\n    <tr>\n      <th>3</th>\n      <td>2003</td>\n      <td>6338802263</td>\n    </tr>\n    <tr>\n      <th>4</th>\n      <td>2004</td>\n      <td>6418482246</td>\n    </tr>\n    <tr>\n      <th>5</th>\n      <td>2005</td>\n      <td>6498697803</td>\n    </tr>\n    <tr>\n      <th>6</th>\n      <td>2006</td>\n      <td>6579697558</td>\n    </tr>\n    <tr>\n      <th>7</th>\n      <td>2007</td>\n      <td>6661190578</td>\n    </tr>\n    <tr>\n      <th>8</th>\n      <td>2008</td>\n      <td>6743929342</td>\n    </tr>\n    <tr>\n      <th>9</th>\n      <td>2009</td>\n      <td>6826633998</td>\n    </tr>\n    <tr>\n      <th>10</th>\n      <td>2010</td>\n      <td>6908996605</td>\n    </tr>\n    <tr>\n      <th>11</th>\n      <td>2011</td>\n      <td>6990094970</td>\n    </tr>\n    <tr>\n      <th>12</th>\n      <td>2012</td>\n      <td>7069823152</td>\n    </tr>\n    <tr>\n      <th>13</th>\n      <td>2013</td>\n      <td>7153755444</td>\n    </tr>\n    <tr>\n      <th>14</th>\n      <td>2014</td>\n      <td>7238448967</td>\n    </tr>\n    <tr>\n      <th>15</th>\n      <td>2015</td>\n      <td>7323321696</td>\n    </tr>\n    <tr>\n      <th>16</th>\n      <td>2016</td>\n      <td>7408875994</td>\n    </tr>\n    <tr>\n      <th>17</th>\n      <td>2017</td>\n      <td>7493762171</td>\n    </tr>\n  </tbody>\n</table>\n</div>"
     },
     "execution_count": 151,
     "metadata": {},
     "output_type": "execute_result"
    }
   ],
   "source": [
    "year2000_2017_population = total_long.set_index('Year').loc[2000:2017]\n",
    "year2000_17 = pd.DataFrame(year2000_2017_population.groupby('Year')['Count'].agg(sum))\n",
    "#year2000_17.reset_index(inplace=True)"
   ],
   "metadata": {
    "collapsed": false,
    "pycharm": {
     "name": "#%%\n"
    }
   }
  },
  {
   "cell_type": "code",
   "execution_count": 163,
   "outputs": [
    {
     "data": {
      "application/javascript": "if (window.IpyVizzu) { window.IpyVizzu.clearInhibitScroll(element); }"
     },
     "metadata": {},
     "output_type": "display_data"
    },
    {
     "data": {
      "application/javascript": "if (window.IpyVizzu) { window.IpyVizzu.clearInhibitScroll(element); }"
     },
     "metadata": {},
     "output_type": "display_data"
    },
    {
     "data": {
      "application/javascript": "if (window.IpyVizzu) { window.IpyVizzu.clearInhibitScroll(element); }"
     },
     "metadata": {},
     "output_type": "display_data"
    },
    {
     "data": {
      "application/javascript": "if (window.IpyVizzu) { window.IpyVizzu.clearInhibitScroll(element); }"
     },
     "metadata": {},
     "output_type": "display_data"
    },
    {
     "data": {
      "application/javascript": "if (window.IpyVizzu) { window.IpyVizzu.clearInhibitScroll(element); }"
     },
     "metadata": {},
     "output_type": "display_data"
    },
    {
     "data": {
      "application/javascript": "if (window.IpyVizzu) { window.IpyVizzu.clearInhibitScroll(element); }"
     },
     "metadata": {},
     "output_type": "display_data"
    },
    {
     "data": {
      "application/javascript": "if (window.IpyVizzu) { window.IpyVizzu.clearInhibitScroll(element); }"
     },
     "metadata": {},
     "output_type": "display_data"
    },
    {
     "data": {
      "application/javascript": "if (window.IpyVizzu) { window.IpyVizzu.clearInhibitScroll(element); }"
     },
     "metadata": {},
     "output_type": "display_data"
    },
    {
     "data": {
      "application/javascript": "if (window.IpyVizzu) { window.IpyVizzu.clearInhibitScroll(element); }"
     },
     "metadata": {},
     "output_type": "display_data"
    },
    {
     "data": {
      "application/javascript": "if (window.IpyVizzu) { window.IpyVizzu.clearInhibitScroll(element); }"
     },
     "metadata": {},
     "output_type": "display_data"
    },
    {
     "data": {
      "application/javascript": "if (window.IpyVizzu) { window.IpyVizzu.clearInhibitScroll(element); }"
     },
     "metadata": {},
     "output_type": "display_data"
    },
    {
     "data": {
      "application/javascript": "if (window.IpyVizzu) { window.IpyVizzu.clearInhibitScroll(element); }"
     },
     "metadata": {},
     "output_type": "display_data"
    },
    {
     "data": {
      "application/javascript": "if (window.IpyVizzu) { window.IpyVizzu.clearInhibitScroll(element); }"
     },
     "metadata": {},
     "output_type": "display_data"
    },
    {
     "data": {
      "application/javascript": "if (window.IpyVizzu) { window.IpyVizzu.clearInhibitScroll(element); }"
     },
     "metadata": {},
     "output_type": "display_data"
    },
    {
     "data": {
      "application/javascript": "if (window.IpyVizzu) { window.IpyVizzu.clearInhibitScroll(element); }"
     },
     "metadata": {},
     "output_type": "display_data"
    },
    {
     "data": {
      "application/javascript": "if (window.IpyVizzu) { window.IpyVizzu.clearInhibitScroll(element); }"
     },
     "metadata": {},
     "output_type": "display_data"
    },
    {
     "data": {
      "text/plain": "<Figure size 720x504 with 1 Axes>",
      "image/png": "[encoded data removed]"
     },
     "metadata": {},
     "output_type": "display_data"
    }
   ],
   "source": [
    "plt.figure(figsize=(10, 7))\n",
    "sns.lineplot(x='Year', y='Count', data=year2000_17);\n",
    "plt.xticks([2000, 2005, 2010, 2015, 2018]);\n",
    "plt.title('World Population (2000-17)', fontsize=20, fontfamily='Times New Roman');"
   ],
   "metadata": {
    "collapsed": false,
    "pycharm": {
     "name": "#%%\n"
    }
   }
  },
  {
   "cell_type": "code",
   "execution_count": 176,
   "outputs": [
    {
     "data": {
      "application/javascript": "if (window.IpyVizzu) { window.IpyVizzu.clearInhibitScroll(element); }"
     },
     "metadata": {},
     "output_type": "display_data"
    },
    {
     "data": {
      "application/javascript": "if (window.IpyVizzu) { window.IpyVizzu.clearInhibitScroll(element); }"
     },
     "metadata": {},
     "output_type": "display_data"
    },
    {
     "data": {
      "application/javascript": "if (window.IpyVizzu) { window.IpyVizzu.clearInhibitScroll(element); }"
     },
     "metadata": {},
     "output_type": "display_data"
    },
    {
     "data": {
      "application/javascript": "if (window.IpyVizzu) { window.IpyVizzu.clearInhibitScroll(element); }"
     },
     "metadata": {},
     "output_type": "display_data"
    },
    {
     "data": {
      "application/javascript": "if (window.IpyVizzu) { window.IpyVizzu.clearInhibitScroll(element); }"
     },
     "metadata": {},
     "output_type": "display_data"
    },
    {
     "data": {
      "application/javascript": "if (window.IpyVizzu) { window.IpyVizzu.clearInhibitScroll(element); }"
     },
     "metadata": {},
     "output_type": "display_data"
    },
    {
     "data": {
      "application/javascript": "if (window.IpyVizzu) { window.IpyVizzu.clearInhibitScroll(element); }"
     },
     "metadata": {},
     "output_type": "display_data"
    },
    {
     "data": {
      "application/javascript": "if (window.IpyVizzu) { window.IpyVizzu.clearInhibitScroll(element); }"
     },
     "metadata": {},
     "output_type": "display_data"
    },
    {
     "data": {
      "application/javascript": "if (window.IpyVizzu) { window.IpyVizzu.clearInhibitScroll(element); }"
     },
     "metadata": {},
     "output_type": "display_data"
    },
    {
     "data": {
      "application/javascript": "if (window.IpyVizzu) { window.IpyVizzu.clearInhibitScroll(element); }"
     },
     "metadata": {},
     "output_type": "display_data"
    },
    {
     "data": {
      "application/javascript": "if (window.IpyVizzu) { window.IpyVizzu.clearInhibitScroll(element); }"
     },
     "metadata": {},
     "output_type": "display_data"
    },
    {
     "data": {
      "application/javascript": "if (window.IpyVizzu) { window.IpyVizzu.clearInhibitScroll(element); }"
     },
     "metadata": {},
     "output_type": "display_data"
    },
    {
     "data": {
      "application/javascript": "if (window.IpyVizzu) { window.IpyVizzu.clearInhibitScroll(element); }"
     },
     "metadata": {},
     "output_type": "display_data"
    },
    {
     "data": {
      "application/javascript": "if (window.IpyVizzu) { window.IpyVizzu.clearInhibitScroll(element); }"
     },
     "metadata": {},
     "output_type": "display_data"
    },
    {
     "data": {
      "application/javascript": "if (window.IpyVizzu) { window.IpyVizzu.clearInhibitScroll(element); }"
     },
     "metadata": {},
     "output_type": "display_data"
    },
    {
     "data": {
      "application/javascript": "if (window.IpyVizzu) { window.IpyVizzu.clearInhibitScroll(element); }"
     },
     "metadata": {},
     "output_type": "display_data"
    }
   ],
   "source": [
    "#Density\n",
    "density = pd.read_csv('World Population/population_density_long.csv')\n",
    "density_groupby_year = pd.DataFrame(density.groupby('Year')['Count'].agg(sum))\n",
    "#density_groupby_year.reset_index(inplace=True)"
   ],
   "metadata": {
    "collapsed": false,
    "pycharm": {
     "name": "#%%\n"
    }
   }
  },
  {
   "cell_type": "code",
   "execution_count": 180,
   "outputs": [
    {
     "data": {
      "application/javascript": "if (window.IpyVizzu) { window.IpyVizzu.clearInhibitScroll(element); }"
     },
     "metadata": {},
     "output_type": "display_data"
    },
    {
     "data": {
      "application/javascript": "if (window.IpyVizzu) { window.IpyVizzu.clearInhibitScroll(element); }"
     },
     "metadata": {},
     "output_type": "display_data"
    },
    {
     "data": {
      "application/javascript": "if (window.IpyVizzu) { window.IpyVizzu.clearInhibitScroll(element); }"
     },
     "metadata": {},
     "output_type": "display_data"
    },
    {
     "data": {
      "application/javascript": "if (window.IpyVizzu) { window.IpyVizzu.clearInhibitScroll(element); }"
     },
     "metadata": {},
     "output_type": "display_data"
    },
    {
     "data": {
      "application/javascript": "if (window.IpyVizzu) { window.IpyVizzu.clearInhibitScroll(element); }"
     },
     "metadata": {},
     "output_type": "display_data"
    },
    {
     "data": {
      "application/javascript": "if (window.IpyVizzu) { window.IpyVizzu.clearInhibitScroll(element); }"
     },
     "metadata": {},
     "output_type": "display_data"
    },
    {
     "data": {
      "application/javascript": "if (window.IpyVizzu) { window.IpyVizzu.clearInhibitScroll(element); }"
     },
     "metadata": {},
     "output_type": "display_data"
    },
    {
     "data": {
      "application/javascript": "if (window.IpyVizzu) { window.IpyVizzu.clearInhibitScroll(element); }"
     },
     "metadata": {},
     "output_type": "display_data"
    },
    {
     "data": {
      "application/javascript": "if (window.IpyVizzu) { window.IpyVizzu.clearInhibitScroll(element); }"
     },
     "metadata": {},
     "output_type": "display_data"
    },
    {
     "data": {
      "application/javascript": "if (window.IpyVizzu) { window.IpyVizzu.clearInhibitScroll(element); }"
     },
     "metadata": {},
     "output_type": "display_data"
    },
    {
     "data": {
      "application/javascript": "if (window.IpyVizzu) { window.IpyVizzu.clearInhibitScroll(element); }"
     },
     "metadata": {},
     "output_type": "display_data"
    },
    {
     "data": {
      "application/javascript": "if (window.IpyVizzu) { window.IpyVizzu.clearInhibitScroll(element); }"
     },
     "metadata": {},
     "output_type": "display_data"
    },
    {
     "data": {
      "application/javascript": "if (window.IpyVizzu) { window.IpyVizzu.clearInhibitScroll(element); }"
     },
     "metadata": {},
     "output_type": "display_data"
    },
    {
     "data": {
      "application/javascript": "if (window.IpyVizzu) { window.IpyVizzu.clearInhibitScroll(element); }"
     },
     "metadata": {},
     "output_type": "display_data"
    },
    {
     "data": {
      "application/javascript": "if (window.IpyVizzu) { window.IpyVizzu.clearInhibitScroll(element); }"
     },
     "metadata": {},
     "output_type": "display_data"
    },
    {
     "data": {
      "application/javascript": "if (window.IpyVizzu) { window.IpyVizzu.clearInhibitScroll(element); }"
     },
     "metadata": {},
     "output_type": "display_data"
    },
    {
     "data": {
      "text/plain": "<Figure size 720x504 with 1 Axes>",
      "image/png": "[encoded data removed]"
     },
     "metadata": {},
     "output_type": "display_data"
    }
   ],
   "source": [
    "plt.figure(figsize=(10, 7))\n",
    "sns.scatterplot(x='Year', y='Count', data=density_groupby_year, hue='Year');\n",
    "plt.title('Density Per Year', fontsize=20, fontfamily='Times New Roman');"
   ],
   "metadata": {
    "collapsed": false,
    "pycharm": {
     "name": "#%%\n"
    }
   }
  },
  {
   "cell_type": "code",
   "execution_count": null,
   "outputs": [],
   "source": [],
   "metadata": {
    "collapsed": false,
    "pycharm": {
     "name": "#%%\n"
    }
   }
  }
 ],
 "metadata": {
  "kernelspec": {
   "display_name": "Python 3",
   "language": "python",
   "name": "python3"
  },
  "language_info": {
   "codemirror_mode": {
    "name": "ipython",
    "version": 2
   },
   "file_extension": ".py",
   "mimetype": "text/x-python",
   "name": "python",
   "nbconvert_exporter": "python",
   "pygments_lexer": "ipython2",
   "version": "2.7.6"
  }
 },
 "nbformat": 4,
 "nbformat_minor": 0
}